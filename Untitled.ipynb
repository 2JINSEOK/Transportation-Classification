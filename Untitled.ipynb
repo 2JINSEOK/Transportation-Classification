{
 "cells": [
  {
   "cell_type": "code",
   "execution_count": null,
   "id": "697e00a7",
   "metadata": {},
   "outputs": [],
   "source": [
    "# label 뽑아내는 작업"
   ]
  },
  {
   "cell_type": "code",
   "execution_count": null,
   "id": "05cb79fd",
   "metadata": {},
   "outputs": [],
   "source": [
    "testset = dataset_shuffle(testset)\n",
    "for label in label_list:\n",
    "    dataset = data_by_label(testset, label)\n",
    "    \n",
    "    j = 0\n",
    "    total = 0\n",
    "    \n",
    "    \n",
    "    for d in range(1, len(dataset['images'])+1):\n",
    "        if j == len(class_list): break\n",
    "            \n",
    "        cls = class_list[j]\n",
    "        data_fname_by_class[cls][label]['image'].append(dataset['images'][d-1])\n",
    "        \n",
    "        \n",
    "        if d - total == num_of_data_by_class[cls][label]:    \n",
    "            j += 1\n",
    "            total += num_of_data_by_class[cls][label]\n",
    "            \n",
    "test_labels = one_hot_encoding(test_labels)            "
   ]
  },
  {
   "cell_type": "code",
   "execution_count": null,
   "id": "9631ce0f",
   "metadata": {},
   "outputs": [],
   "source": [
    "train_labels = []\n",
    "valid_labels = []\n",
    "    cnt = 0\n",
    "    for i in range(len(train_fname)):\n",
    "        for label in label_list:\n",
    "            for f in train_fname[i][label]['image']:\n",
    "                cnt += 1\n",
    "                img = Image.open(f, 'r')\n",
    "                img = img.resize((64, 64))\n",
    "                img = np.array(img) / 255.0\n",
    "                # (64, 64, 3)\n",
    "                \n",
    "                train_image = np.expand_dims(img, axis=0) # (1, 64, 64, 3)\n",
    "                \n",
    "                \n",
    "                if cnt == 1:\n",
    "                    train_images = train_image\n",
    "                else:\n",
    "                    train_images = np.append(train_images, train_image, axis=0) # (2, 64, 64, 3)\n",
    "                    \n",
    "                train_labels.append(label)"
   ]
  }
 ],
 "metadata": {
  "kernelspec": {
   "display_name": "Python 3",
   "language": "python",
   "name": "python3"
  },
  "language_info": {
   "codemirror_mode": {
    "name": "ipython",
    "version": 3
   },
   "file_extension": ".py",
   "mimetype": "text/x-python",
   "name": "python",
   "nbconvert_exporter": "python",
   "pygments_lexer": "ipython3",
   "version": "3.8.12"
  }
 },
 "nbformat": 4,
 "nbformat_minor": 5
}
